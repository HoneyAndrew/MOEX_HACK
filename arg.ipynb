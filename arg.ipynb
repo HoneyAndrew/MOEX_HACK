{
 "cells": [
  {
   "cell_type": "code",
   "execution_count": 2,
   "metadata": {},
   "outputs": [],
   "source": [
    "import pandas as pd\n",
    "\n",
    "# Замените 'your_dataset.csv' на путь к вашему файлу данных\n",
    "df = pd.read_csv('readydata_orderstats_normalised.csv')\n"
   ]
  },
  {
   "cell_type": "code",
   "execution_count": 3,
   "metadata": {},
   "outputs": [],
   "source": [
    "\n",
    "\n",
    "# Или выборка 40000 строк (примерное значение для получения ~400 МБ из 2 ГБ)\n",
    "sample_df = df.sample(n=300000)\n",
    "sample_df.to_csv('sampled_data_order_test.csv', index=False)\n"
   ]
  }
 ],
 "metadata": {
  "kernelspec": {
   "display_name": "Python 3.11.5 ('env': venv)",
   "language": "python",
   "name": "python3"
  },
  "language_info": {
   "codemirror_mode": {
    "name": "ipython",
    "version": 3
   },
   "file_extension": ".py",
   "mimetype": "text/x-python",
   "name": "python",
   "nbconvert_exporter": "python",
   "pygments_lexer": "ipython3",
   "version": "3.11.5"
  },
  "orig_nbformat": 4,
  "vscode": {
   "interpreter": {
    "hash": "2089010ab012bab1da9d409b70b9e28b603cd310a46885ecb23830cb88ad028e"
   }
  }
 },
 "nbformat": 4,
 "nbformat_minor": 2
}
